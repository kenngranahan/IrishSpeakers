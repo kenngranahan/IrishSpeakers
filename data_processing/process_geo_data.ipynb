{
 "cells": [
  {
   "cell_type": "code",
   "execution_count": 22,
   "metadata": {},
   "outputs": [],
   "source": [
    "import geopandas as gpd\n",
    "import pandas as pd"
   ]
  },
  {
   "cell_type": "code",
   "execution_count": 32,
   "metadata": {},
   "outputs": [],
   "source": [
    "input_file = 'Census2011_Admin_Counties_generalised20m/Census2011_Admin_Counties_generalised20m.shp'\n",
    "output_file = '../geo_files/Irish_counties.shp'\n",
    "\n",
    "#Read in the shape file using GeoPandas\n",
    "Geo = gpd.read_file(input_file)"
   ]
  },
  {
   "cell_type": "code",
   "execution_count": 33,
   "metadata": {},
   "outputs": [],
   "source": [
    "#Remove ' County' from the end of each county name in column 'COUNTYNAME'. The only exceptions are\n",
    "#counties with a city. These counties will have ' County' appended to their name. The county name on its\n",
    "#own will refer to the total landmass contained in county borders, e.g. 'Galway City' refers to Galway city,\n",
    "#'Galway' refers to the total landmass inside Galway's borders, while 'Galway County' refers to 'Galway'\n",
    "#excluding 'Galway City'\n",
    "\n",
    "#Remove ' County' from each name\n",
    "Geo['COUNTYNAME'] = Geo['COUNTYNAME'].apply(lambda x : ''.join(x.split()[:-1]) if x.split()[-1] == 'County' else x)\n",
    "\n",
    "#These are all of the cities according to the CSO\n",
    "cities = ['Galway', 'Limerick', 'Waterford', 'Cork', 'Dublin']\n",
    "\n",
    "#Append ' County' to these names to distinuish them from the city border and full county border\n",
    "for city in cities:\n",
    "    Geo.at[Geo[Geo['COUNTYNAME'] == city].index, 'COUNTYNAME'] = city + \" County\""
   ]
  },
  {
   "cell_type": "code",
   "execution_count": 37,
   "metadata": {},
   "outputs": [],
   "source": [
    "#This dictionary stores the regions in the form {'Region Name': ['List of Sub-Regions']}. The\n",
    "#Regions stored in this dictionary will have their borders calculated using the borders of the Sub-Regions \n",
    "#and stored in the final output\n",
    "aggregate = {'State': Geo['COUNTYNAME'].values,\n",
    "             'Connacht': ['Galway County', 'Leitrim', 'Mayo','Roscommon', 'Sligo', 'Galway City'], \n",
    "             'Ulster': ['Cavan', 'Donegal','Monaghan'],\n",
    "             'Munster': ['Clare', 'Cork County', 'Cork City', 'Kerry', \n",
    "                        'Limerick County', 'Limerick City', 'South Tipperary',  'North Tipperary', \n",
    "                         'Waterford County', 'Waterford City'],\n",
    "             'Leinster': ['Carlow', 'Dublin City', 'South Dublin','Fingal',\n",
    "                          'Dún Laoghaire-Rathdown','Kildare', 'Kilkenny', \n",
    "                         'Laois','Longford', 'Louth','Meath', \n",
    "                         'Offaly', 'Westmeath','Wexford', 'Wicklow'],\n",
    "            'Dublin' : ['Dublin City', 'South Dublin','Fingal', 'Dún Laoghaire-Rathdown'],\n",
    "            'Tipperary': ['North Tipperary', 'South Tipperary'],\n",
    "            'Limerick': ['Limerick City', 'Limerick County'],\n",
    "             'Galway': ['Galway City', 'Galway County'],\n",
    "             'Cork': ['Cork City', 'Cork County'],\n",
    "             'Waterford': ['Waterford City', 'Waterford County']\n",
    "            } \n",
    "\n",
    "#final_df is the GeoDataFrame that will be written to disk\n",
    "final_df = Geo[['COUNTYNAME','geometry']].copy()\n",
    "\n",
    "#Loop over each region and calculate its border using the unary_union() method in GeoPandas.\n",
    "#Then append this border to final_df. This new border is named after the region\n",
    "for region in aggregate:\n",
    "    \n",
    "    #Create a temporary column called region, to filter out the correct areas\n",
    "    final_df[region] = Geo['COUNTYNAME'].where(~Geo['COUNTYNAME'].isin(aggregate[region]), region)\n",
    "    \n",
    "    #Calculate the geometrt\n",
    "    region_geometry = final_df[final_df[region] == region]['geometry'].unary_union\n",
    "    \n",
    "    \n",
    "    #Append to the GeoDataFrame\n",
    "    final_df = final_df.append({'COUNTYNAME': region, 'geometry': region_geometry}, ignore_index = True)\n",
    "    \n",
    "    \n",
    "    #Drop a column that was temporarily created\n",
    "    final_df.drop(region, inplace=True, axis=1)"
   ]
  },
  {
   "cell_type": "code",
   "execution_count": 38,
   "metadata": {},
   "outputs": [],
   "source": [
    "#Sort the borders in alphabetical order and write to disk\n",
    "final_df = final_df.sort_values(by = 'COUNTYNAME').reset_index(drop = True)\n",
    "final_df.to_file(output_file)"
   ]
  }
 ],
 "metadata": {
  "kernelspec": {
   "display_name": "Python 3",
   "language": "python",
   "name": "python3"
  },
  "language_info": {
   "codemirror_mode": {
    "name": "ipython",
    "version": 3
   },
   "file_extension": ".py",
   "mimetype": "text/x-python",
   "name": "python",
   "nbconvert_exporter": "python",
   "pygments_lexer": "ipython3",
   "version": "3.7.6"
  }
 },
 "nbformat": 4,
 "nbformat_minor": 4
}
